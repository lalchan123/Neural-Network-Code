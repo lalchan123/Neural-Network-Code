{
  "nbformat": 4,
  "nbformat_minor": 0,
  "metadata": {
    "colab": {
      "name": "timeseries_anomaly_detection",
      "provenance": [],
      "collapsed_sections": [],
      "toc_visible": true
    },
    "kernelspec": {
      "display_name": "Python 3",
      "language": "python",
      "name": "python3"
    },
    "language_info": {
      "codemirror_mode": {
        "name": "ipython",
        "version": 3
      },
      "file_extension": ".py",
      "mimetype": "text/x-python",
      "name": "python",
      "nbconvert_exporter": "python",
      "pygments_lexer": "ipython3",
      "version": "3.7.0"
    },
    "accelerator": "GPU"
  },
  "cells": [
    {
      "cell_type": "markdown",
      "metadata": {
        "id": "u5qQY7XrX-GE"
      },
      "source": [
        "# Timeseries anomaly detection\n",
        "\n",
        "**Author:** [pavithrasv](https://github.com/pavithrasv)<br>\n",
        "**Date created:** 2020/05/31<br>\n",
        "**Last modified:** 2020/05/31<br>\n",
        "**Description:** Detect anomalies in a timeseries using an Autoencoder."
      ]
    },
    {
      "cell_type": "markdown",
      "metadata": {
        "id": "BeiR-E2sX-GH"
      },
      "source": [
        "## Introduction\n",
        "\n",
        "This script demonstrates how you can use a reconstruction convolutional\n",
        "autoencoder model to detect anomalies in timeseries data."
      ]
    },
    {
      "cell_type": "markdown",
      "metadata": {
        "id": "uRHwHHRsX-GI"
      },
      "source": [
        "## Setup"
      ]
    },
    {
      "cell_type": "code",
      "metadata": {
        "id": "oPwkIaKGX-GJ"
      },
      "source": [
        "import numpy as np\n",
        "import pandas as pd\n",
        "from tensorflow import keras\n",
        "from tensorflow.keras import layers\n",
        "from matplotlib import pyplot as plt"
      ],
      "execution_count": 5,
      "outputs": []
    },
    {
      "cell_type": "markdown",
      "metadata": {
        "id": "1k43jnU-X-GJ"
      },
      "source": [
        "## Load the data\n",
        "\n",
        "We will use the [Numenta Anomaly Benchmark(NAB)](\n",
        "https://www.kaggle.com/boltzmannbrain/nab) dataset. It provides artifical\n",
        "timeseries data containing labeled anomalous periods of behavior. Data are\n",
        "ordered, timestamped, single-valued metrics.\n",
        "\n",
        "We will use the `art_daily_small_noise.csv` file for training and the\n",
        "`art_daily_jumpsup.csv` file for testing. The simplicity of this dataset\n",
        "allows us to demonstrate anomaly detection effectively."
      ]
    },
    {
      "cell_type": "code",
      "metadata": {
        "id": "bVWLUz_7X-GK"
      },
      "source": [
        "master_url_root = \"https://raw.githubusercontent.com/numenta/NAB/master/data/\"\n",
        "\n",
        "df_small_noise_url_suffix = \"artificialNoAnomaly/art_daily_small_noise.csv\"\n",
        "df_small_noise_url = master_url_root + df_small_noise_url_suffix\n",
        "df_small_noise = pd.read_csv(\n",
        "    df_small_noise_url, parse_dates=True, index_col=\"timestamp\"\n",
        ")\n",
        "\n",
        "df_daily_jumpsup_url_suffix = \"artificialWithAnomaly/art_daily_jumpsup.csv\"\n",
        "df_daily_jumpsup_url = master_url_root + df_daily_jumpsup_url_suffix\n",
        "df_daily_jumpsup = pd.read_csv(\n",
        "    df_daily_jumpsup_url, parse_dates=True, index_col=\"timestamp\"\n",
        ")"
      ],
      "execution_count": 6,
      "outputs": []
    },
    {
      "cell_type": "markdown",
      "metadata": {
        "id": "SbfOgRIUX-GK"
      },
      "source": [
        "## Quick look at the data"
      ]
    },
    {
      "cell_type": "code",
      "metadata": {
        "id": "9ZCwldO0X-GL",
        "outputId": "d48efa5d-29aa-4616-b9fc-13f94c050628",
        "colab": {
          "base_uri": "https://localhost:8080/"
        }
      },
      "source": [
        "print(df_small_noise.head())\n",
        "\n",
        "print(df_daily_jumpsup.head())"
      ],
      "execution_count": 7,
      "outputs": [
        {
          "output_type": "stream",
          "text": [
            "                         value\n",
            "timestamp                     \n",
            "2014-04-01 00:00:00  18.324919\n",
            "2014-04-01 00:05:00  21.970327\n",
            "2014-04-01 00:10:00  18.624806\n",
            "2014-04-01 00:15:00  21.953684\n",
            "2014-04-01 00:20:00  21.909120\n",
            "                         value\n",
            "timestamp                     \n",
            "2014-04-01 00:00:00  19.761252\n",
            "2014-04-01 00:05:00  20.500833\n",
            "2014-04-01 00:10:00  19.961641\n",
            "2014-04-01 00:15:00  21.490266\n",
            "2014-04-01 00:20:00  20.187739\n"
          ],
          "name": "stdout"
        }
      ]
    },
    {
      "cell_type": "markdown",
      "metadata": {
        "id": "ZsjaTGqwX-GL"
      },
      "source": [
        "## Visualize the data\n",
        "### Timeseries data without anomalies\n",
        "\n",
        "We will use the following data for training."
      ]
    },
    {
      "cell_type": "code",
      "metadata": {
        "id": "90xG6cBPX-GM",
        "outputId": "7ef4ca13-e604-4d75-bd85-db2e53a460f4",
        "colab": {
          "base_uri": "https://localhost:8080/",
          "height": 303
        }
      },
      "source": [
        "fig, ax = plt.subplots()\n",
        "df_small_noise.plot(legend=False, ax=ax)\n",
        "plt.show()"
      ],
      "execution_count": 20,
      "outputs": [
        {
          "output_type": "display_data",
          "data": {
            "image/png": "[encoded data removed]",
            "text/plain": [
              "<Figure size 432x288 with 1 Axes>"
            ]
          },
          "metadata": {
            "tags": [],
            "needs_background": "light"
          }
        }
      ]
    },
    {
      "cell_type": "markdown",
      "metadata": {
        "id": "xEHbCAXJX-GM"
      },
      "source": [
        "### Timeseries data with anomalies\n",
        "\n",
        "We will use the following data for testing and see if the sudden jump up in the\n",
        "data is detected as an anomaly."
      ]
    },
    {
      "cell_type": "code",
      "metadata": {
        "id": "sCeaiQyVX-GM",
        "outputId": "6fb1e9f1-cb6e-40fa-bdb5-4d900512f743",
        "colab": {
          "base_uri": "https://localhost:8080/",
          "height": 303
        }
      },
      "source": [
        "fig, ax = plt.subplots()\n",
        "df_daily_jumpsup.plot(legend=False, ax=ax)\n",
        "plt.show()"
      ],
      "execution_count": 21,
      "outputs": [
        {
          "output_type": "display_data",
          "data": {
            "image/png": "[encoded data removed]",
            "text/plain": [
              "<Figure size 432x288 with 1 Axes>"
            ]
          },
          "metadata": {
            "tags": [],
            "needs_background": "light"
          }
        }
      ]
    },
    {
      "cell_type": "markdown",
      "metadata": {
        "id": "yuW-OB_RX-GN"
      },
      "source": [
        "## Prepare training data\n",
        "\n",
        "Get data values from the training timeseries data file and normalize the\n",
        "`value` data. We have a `value` for every 5 mins for 14 days.\n",
        "\n",
        "-   24 * 60 / 5 = **288 timesteps per day**\n",
        "-   288 * 14 = **4032 data points** in total"
      ]
    },
    {
      "cell_type": "code",
      "metadata": {
        "id": "OfHF8-5sX-GN",
        "outputId": "c99a5a0f-63dc-443b-8fb5-ed5dd2bc95db",
        "colab": {
          "base_uri": "https://localhost:8080/"
        }
      },
      "source": [
        "\n",
        "# Normalize and save the mean and std we get,\n",
        "# for normalizing test data.\n",
        "training_mean = df_small_noise.mean()\n",
        "training_std = df_small_noise.std()\n",
        "df_training_value = (df_small_noise - training_mean) / training_std\n",
        "print(\"Number of training samples:\", len(df_training_value))"
      ],
      "execution_count": 22,
      "outputs": [
        {
          "output_type": "stream",
          "text": [
            "Number of training samples: 4032\n"
          ],
          "name": "stdout"
        }
      ]
    },
    {
      "cell_type": "markdown",
      "metadata": {
        "id": "bMVb1O3SX-GO"
      },
      "source": [
        "### Create sequences\n",
        "Create sequences combining `TIME_STEPS` contiguous data values from the\n",
        "training data."
      ]
    },
    {
      "cell_type": "code",
      "metadata": {
        "id": "2UotgB4MX-GO",
        "outputId": "92878db7-7bce-49b8-e677-85f91cffb82d",
        "colab": {
          "base_uri": "https://localhost:8080/"
        }
      },
      "source": [
        "TIME_STEPS = 288\n",
        "\n",
        "# Generated training sequences for use in the model.\n",
        "def create_sequences(values, time_steps=TIME_STEPS):\n",
        "    output = []\n",
        "    for i in range(len(values) - time_steps):\n",
        "        output.append(values[i : (i + time_steps)])\n",
        "    return np.stack(output)\n",
        "\n",
        "\n",
        "x_train = create_sequences(df_training_value.values)\n",
        "print(\"Training input shape: \", x_train.shape)"
      ],
      "execution_count": 27,
      "outputs": [
        {
          "output_type": "stream",
          "text": [
            "Training input shape:  (3744, 288, 1)\n"
          ],
          "name": "stdout"
        }
      ]
    },
    {
      "cell_type": "markdown",
      "metadata": {
        "id": "jidMiw7bX-GO"
      },
      "source": [
        "## Build a model\n",
        "\n",
        "We will build a convolutional reconstruction autoencoder model. The model will\n",
        "take input of shape `(batch_size, sequence_length, num_features)` and return\n",
        "output of the same shape. In this case, `sequence_length` is 288 and\n",
        "`num_features` is 1."
      ]
    },
    {
      "cell_type": "code",
      "metadata": {
        "id": "gu8Kh7HWX-GP",
        "outputId": "f3d1c3bf-1ce5-4763-c548-d0ef98c25023",
        "colab": {
          "base_uri": "https://localhost:8080/"
        }
      },
      "source": [
        "model = keras.Sequential(\n",
        "    [\n",
        "        layers.Input(shape=(x_train.shape[1], x_train.shape[2])),\n",
        "        layers.Conv1D(\n",
        "            filters=32, kernel_size=7, padding=\"same\", strides=2, activation=\"relu\"\n",
        "        ),\n",
        "        layers.Dropout(rate=0.2),\n",
        "        layers.Conv1D(\n",
        "            filters=16, kernel_size=7, padding=\"same\", strides=2, activation=\"relu\"\n",
        "        ),\n",
        "        layers.Conv1DTranspose(\n",
        "            filters=16, kernel_size=7, padding=\"same\", strides=2, activation=\"relu\"\n",
        "        ),\n",
        "        layers.Dropout(rate=0.2),\n",
        "        layers.Conv1DTranspose(\n",
        "            filters=32, kernel_size=7, padding=\"same\", strides=2, activation=\"relu\"\n",
        "        ),\n",
        "        layers.Conv1DTranspose(filters=1, kernel_size=7, padding=\"same\"),\n",
        "    ]\n",
        ")\n",
        "model.compile(optimizer=keras.optimizers.Adam(learning_rate=0.001), loss=\"mse\")\n",
        "model.summary()"
      ],
      "execution_count": 28,
      "outputs": [
        {
          "output_type": "stream",
          "text": [
            "WARNING:tensorflow:Please add `keras.layers.InputLayer` instead of `keras.Input` to Sequential model. `keras.Input` is intended to be used by Functional model.\n",
            "Model: \"sequential_2\"\n",
            "_________________________________________________________________\n",
            "Layer (type)                 Output Shape              Param #   \n",
            "=================================================================\n",
            "conv1d_4 (Conv1D)            (None, 144, 32)           256       \n",
            "_________________________________________________________________\n",
            "dropout_4 (Dropout)          (None, 144, 32)           0         \n",
            "_________________________________________________________________\n",
            "conv1d_5 (Conv1D)            (None, 72, 16)            3600      \n",
            "_________________________________________________________________\n",
            "conv1d_transpose_6 (Conv1DTr (None, 144, 16)           1808      \n",
            "_________________________________________________________________\n",
            "dropout_5 (Dropout)          (None, 144, 16)           0         \n",
            "_________________________________________________________________\n",
            "conv1d_transpose_7 (Conv1DTr (None, 288, 32)           3616      \n",
            "_________________________________________________________________\n",
            "conv1d_transpose_8 (Conv1DTr (None, 288, 1)            225       \n",
            "=================================================================\n",
            "Total params: 9,505\n",
            "Trainable params: 9,505\n",
            "Non-trainable params: 0\n",
            "_________________________________________________________________\n"
          ],
          "name": "stdout"
        }
      ]
    },
    {
      "cell_type": "markdown",
      "metadata": {
        "id": "1J1uZLT7X-GP"
      },
      "source": [
        "## Train the model\n",
        "\n",
        "Please note that we are using `x_train` as both the input and the target\n",
        "since this is a reconstruction model."
      ]
    },
    {
      "cell_type": "code",
      "metadata": {
        "id": "tSzdZKVfX-GQ",
        "outputId": "4e319f7d-9c5f-4d3d-dc39-8c15778f652e",
        "colab": {
          "base_uri": "https://localhost:8080/"
        }
      },
      "source": [
        "history = model.fit(\n",
        "    x_train,\n",
        "    x_train,\n",
        "    epochs=50,\n",
        "    batch_size=128,\n",
        "    validation_split=0.1,\n",
        "    callbacks=[\n",
        "        keras.callbacks.EarlyStopping(monitor=\"val_loss\", patience=5, mode=\"min\")\n",
        "    ],\n",
        ")"
      ],
      "execution_count": 29,
      "outputs": [
        {
          "output_type": "stream",
          "text": [
            "Epoch 1/50\n",
            "27/27 [==============================] - 1s 22ms/step - loss: 0.4287 - val_loss: 0.0790\n",
            "Epoch 2/50\n",
            "27/27 [==============================] - 0s 13ms/step - loss: 0.0741 - val_loss: 0.0434\n",
            "Epoch 3/50\n",
            "27/27 [==============================] - 0s 12ms/step - loss: 0.0593 - val_loss: 0.0403\n",
            "Epoch 4/50\n",
            "27/27 [==============================] - 0s 11ms/step - loss: 0.0533 - val_loss: 0.0358\n",
            "Epoch 5/50\n",
            "27/27 [==============================] - 0s 11ms/step - loss: 0.0469 - val_loss: 0.0308\n",
            "Epoch 6/50\n",
            "27/27 [==============================] - 0s 11ms/step - loss: 0.0411 - val_loss: 0.0269\n",
            "Epoch 7/50\n",
            "27/27 [==============================] - 0s 11ms/step - loss: 0.0365 - val_loss: 0.0253\n",
            "Epoch 8/50\n",
            "27/27 [==============================] - 0s 11ms/step - loss: 0.0329 - val_loss: 0.0231\n",
            "Epoch 9/50\n",
            "27/27 [==============================] - 0s 11ms/step - loss: 0.0300 - val_loss: 0.0210\n",
            "Epoch 10/50\n",
            "27/27 [==============================] - 0s 12ms/step - loss: 0.0275 - val_loss: 0.0200\n",
            "Epoch 11/50\n",
            "27/27 [==============================] - 0s 11ms/step - loss: 0.0253 - val_loss: 0.0186\n",
            "Epoch 12/50\n",
            "27/27 [==============================] - 0s 11ms/step - loss: 0.0235 - val_loss: 0.0171\n",
            "Epoch 13/50\n",
            "27/27 [==============================] - 0s 11ms/step - loss: 0.0222 - val_loss: 0.0164\n",
            "Epoch 14/50\n",
            "27/27 [==============================] - 0s 11ms/step - loss: 0.0208 - val_loss: 0.0160\n",
            "Epoch 15/50\n",
            "27/27 [==============================] - 0s 11ms/step - loss: 0.0197 - val_loss: 0.0169\n",
            "Epoch 16/50\n",
            "27/27 [==============================] - 0s 11ms/step - loss: 0.0186 - val_loss: 0.0159\n",
            "Epoch 17/50\n",
            "27/27 [==============================] - 0s 11ms/step - loss: 0.0177 - val_loss: 0.0153\n",
            "Epoch 18/50\n",
            "27/27 [==============================] - 0s 11ms/step - loss: 0.0167 - val_loss: 0.0154\n",
            "Epoch 19/50\n",
            "27/27 [==============================] - 0s 11ms/step - loss: 0.0159 - val_loss: 0.0168\n",
            "Epoch 20/50\n",
            "27/27 [==============================] - 0s 11ms/step - loss: 0.0152 - val_loss: 0.0149\n",
            "Epoch 21/50\n",
            "27/27 [==============================] - 0s 11ms/step - loss: 0.0144 - val_loss: 0.0169\n",
            "Epoch 22/50\n",
            "27/27 [==============================] - 0s 11ms/step - loss: 0.0138 - val_loss: 0.0160\n",
            "Epoch 23/50\n",
            "27/27 [==============================] - 0s 11ms/step - loss: 0.0132 - val_loss: 0.0162\n",
            "Epoch 24/50\n",
            "27/27 [==============================] - 0s 11ms/step - loss: 0.0127 - val_loss: 0.0164\n",
            "Epoch 25/50\n",
            "27/27 [==============================] - 0s 11ms/step - loss: 0.0122 - val_loss: 0.0178\n"
          ],
          "name": "stdout"
        }
      ]
    },
    {
      "cell_type": "markdown",
      "metadata": {
        "id": "D9CMz3dIX-GQ"
      },
      "source": [
        "Let's plot training and validation loss to see how the training went."
      ]
    },
    {
      "cell_type": "code",
      "metadata": {
        "id": "mW9HzYf7X-GR",
        "outputId": "96f1dbce-0d57-4c4d-a481-a21ea38c5db4",
        "colab": {
          "base_uri": "https://localhost:8080/",
          "height": 265
        }
      },
      "source": [
        "plt.plot(history.history[\"loss\"], label=\"Training Loss\")\n",
        "plt.plot(history.history[\"val_loss\"], label=\"Validation Loss\")\n",
        "plt.legend()\n",
        "plt.show()"
      ],
      "execution_count": 30,
      "outputs": [
        {
          "output_type": "display_data",
          "data": {
            "image/png": "[encoded data removed]",
            "text/plain": [
              "<Figure size 432x288 with 1 Axes>"
            ]
          },
          "metadata": {
            "tags": [],
            "needs_background": "light"
          }
        }
      ]
    },
    {
      "cell_type": "markdown",
      "metadata": {
        "id": "5fZH4eBnX-GS"
      },
      "source": [
        "## Detecting anomalies\n",
        "\n",
        "We will detect anomalies by determining how well our model can reconstruct\n",
        "the input data.\n",
        "\n",
        "\n",
        "1.   Find MAE loss on training samples.\n",
        "2.   Find max MAE loss value. This is the worst our model has performed trying\n",
        "to reconstruct a sample. We will make this the `threshold` for anomaly\n",
        "detection.\n",
        "3.   If the reconstruction loss for a sample is greater than this `threshold`\n",
        "value then we can infer that the model is seeing a pattern that it isn't\n",
        "familiar with. We will label this sample as an `anomaly`.\n"
      ]
    },
    {
      "cell_type": "code",
      "metadata": {
        "id": "7VO54ROHX-GS",
        "outputId": "6692b7d7-db56-45e7-fdb3-1092ecc04932",
        "colab": {
          "base_uri": "https://localhost:8080/",
          "height": 296
        }
      },
      "source": [
        "# Get train MAE loss.\n",
        "x_train_pred = model.predict(x_train)\n",
        "train_mae_loss = np.mean(np.abs(x_train_pred - x_train), axis=1)\n",
        "\n",
        "plt.hist(train_mae_loss, bins=50)\n",
        "plt.xlabel(\"Train MAE loss\")\n",
        "plt.ylabel(\"No of samples\")\n",
        "plt.show()\n",
        "\n",
        "# Get reconstruction loss threshold.\n",
        "threshold = np.max(train_mae_loss)\n",
        "print(\"Reconstruction error threshold: \", threshold)"
      ],
      "execution_count": 31,
      "outputs": [
        {
          "output_type": "display_data",
          "data": {
            "image/png": "[encoded data removed]",
            "text/plain": [
              "<Figure size 432x288 with 1 Axes>"
            ]
          },
          "metadata": {
            "tags": [],
            "needs_background": "light"
          }
        },
        {
          "output_type": "stream",
          "text": [
            "Reconstruction error threshold:  0.12867947398117313\n"
          ],
          "name": "stdout"
        }
      ]
    },
    {
      "cell_type": "markdown",
      "metadata": {
        "id": "4F738jRDX-GT"
      },
      "source": [
        "### Compare recontruction\n",
        "\n",
        "Just for fun, let's see how our model has recontructed the first sample.\n",
        "This is the 288 timesteps from day 1 of our training dataset."
      ]
    },
    {
      "cell_type": "code",
      "metadata": {
        "id": "vJoYvFafX-GT",
        "outputId": "f861310c-8efa-460a-ec03-7d840e0f424e",
        "colab": {
          "base_uri": "https://localhost:8080/",
          "height": 265
        }
      },
      "source": [
        "# Checking how the first sequence is learnt\n",
        "plt.plot(x_train[0])\n",
        "plt.plot(x_train_pred[0])\n",
        "plt.show()"
      ],
      "execution_count": 32,
      "outputs": [
        {
          "output_type": "display_data",
          "data": {
            "image/png": "[encoded data removed]",
            "text/plain": [
              "<Figure size 432x288 with 1 Axes>"
            ]
          },
          "metadata": {
            "tags": [],
            "needs_background": "light"
          }
        }
      ]
    },
    {
      "cell_type": "markdown",
      "metadata": {
        "id": "_LeMn1gyX-GT"
      },
      "source": [
        "### Prepare test data"
      ]
    },
    {
      "cell_type": "code",
      "metadata": {
        "id": "oBdb_eAHX-GU",
        "outputId": "5f48e74b-752c-4aa2-dad1-6975f38c074a",
        "colab": {
          "base_uri": "https://localhost:8080/",
          "height": 1000
        }
      },
      "source": [
        "df_test_value = (df_daily_jumpsup - training_mean) / training_std\n",
        "fig, ax = plt.subplots()\n",
        "df_test_value.plot(legend=False, ax=ax)\n",
        "plt.show()\n",
        "\n",
        "# Create sequences from test values.\n",
        "x_test = create_sequences(df_test_value.values)\n",
        "print(\"Test input shape: \", x_test.shape)\n",
        "\n",
        "# Get test MAE loss.\n",
        "x_test_pred = model.predict(x_test)\n",
        "test_mae_loss = np.mean(np.abs(x_test_pred - x_test), axis=1)\n",
        "test_mae_loss = test_mae_loss.reshape((-1))\n",
        "\n",
        "plt.hist(test_mae_loss, bins=50)\n",
        "plt.xlabel(\"test MAE loss\")\n",
        "plt.ylabel(\"No of samples\")\n",
        "plt.show()\n",
        "\n",
        "# Detect all the samples which are anomalies.\n",
        "anomalies = test_mae_loss > threshold\n",
        "print(\"Number of anomaly samples: \", np.sum(anomalies))\n",
        "print(\"Indices of anomaly samples: \", np.where(anomalies))"
      ],
      "execution_count": 33,
      "outputs": [
        {
          "output_type": "display_data",
          "data": {
            "image/png": "[encoded data removed]",
            "text/plain": [
              "<Figure size 432x288 with 1 Axes>"
            ]
          },
          "metadata": {
            "tags": [],
            "needs_background": "light"
          }
        },
        {
          "output_type": "stream",
          "text": [
            "Test input shape:  (3744, 288, 1)\n"
          ],
          "name": "stdout"
        },
        {
          "output_type": "display_data",
          "data": {
            "image/png": "[encoded data removed]",
            "text/plain": [
              "<Figure size 432x288 with 1 Axes>"
            ]
          },
          "metadata": {
            "tags": [],
            "needs_background": "light"
          }
        },
        {
          "output_type": "stream",
          "text": [
            "Number of anomaly samples:  397\n",
            "Indices of anomaly samples:  (array([ 790, 1654, 2701, 2702, 2703, 2704, 2705, 2706, 2707, 2708, 2709,\n",
            "       2710, 2711, 2712, 2713, 2714, 2715, 2716, 2717, 2718, 2719, 2720,\n",
            "       2721, 2722, 2723, 2724, 2725, 2726, 2727, 2728, 2729, 2730, 2731,\n",
            "       2732, 2733, 2734, 2735, 2736, 2737, 2738, 2739, 2740, 2741, 2742,\n",
            "       2743, 2744, 2745, 2746, 2747, 2748, 2749, 2750, 2751, 2752, 2753,\n",
            "       2754, 2755, 2756, 2757, 2758, 2759, 2760, 2761, 2762, 2763, 2764,\n",
            "       2765, 2766, 2767, 2768, 2769, 2770, 2771, 2772, 2773, 2774, 2775,\n",
            "       2776, 2777, 2778, 2779, 2780, 2781, 2782, 2783, 2784, 2785, 2786,\n",
            "       2787, 2788, 2789, 2790, 2791, 2792, 2793, 2794, 2795, 2796, 2797,\n",
            "       2798, 2799, 2800, 2801, 2802, 2803, 2804, 2805, 2806, 2807, 2808,\n",
            "       2809, 2810, 2811, 2812, 2813, 2814, 2815, 2816, 2817, 2818, 2819,\n",
            "       2820, 2821, 2822, 2823, 2824, 2825, 2826, 2827, 2828, 2829, 2830,\n",
            "       2831, 2832, 2833, 2834, 2835, 2836, 2837, 2838, 2839, 2840, 2841,\n",
            "       2842, 2843, 2844, 2845, 2846, 2847, 2848, 2849, 2850, 2851, 2852,\n",
            "       2853, 2854, 2855, 2856, 2857, 2858, 2859, 2860, 2861, 2862, 2863,\n",
            "       2864, 2865, 2866, 2867, 2868, 2869, 2870, 2871, 2872, 2873, 2874,\n",
            "       2875, 2876, 2877, 2878, 2879, 2880, 2881, 2882, 2883, 2884, 2885,\n",
            "       2886, 2887, 2888, 2889, 2890, 2891, 2892, 2893, 2894, 2895, 2896,\n",
            "       2897, 2898, 2899, 2900, 2901, 2902, 2903, 2904, 2905, 2906, 2907,\n",
            "       2908, 2909, 2910, 2911, 2912, 2913, 2914, 2915, 2916, 2917, 2918,\n",
            "       2919, 2920, 2921, 2922, 2923, 2924, 2925, 2926, 2927, 2928, 2929,\n",
            "       2930, 2931, 2932, 2933, 2934, 2935, 2936, 2937, 2938, 2939, 2940,\n",
            "       2941, 2942, 2943, 2944, 2945, 2946, 2947, 2948, 2949, 2950, 2951,\n",
            "       2952, 2953, 2954, 2955, 2956, 2957, 2958, 2959, 2960, 2961, 2962,\n",
            "       2963, 2964, 2965, 2966, 2967, 2968, 2969, 2970, 2971, 2972, 2973,\n",
            "       2974, 2975, 2976, 2977, 2978, 2979, 2980, 2981, 2982, 2983, 2984,\n",
            "       2985, 2986, 2987, 2988, 2989, 2990, 2991, 2992, 2993, 2994, 2995,\n",
            "       2996, 2997, 2998, 2999, 3000, 3001, 3002, 3003, 3004, 3005, 3006,\n",
            "       3007, 3008, 3009, 3010, 3011, 3012, 3013, 3014, 3015, 3016, 3017,\n",
            "       3018, 3019, 3020, 3021, 3022, 3023, 3024, 3025, 3026, 3027, 3028,\n",
            "       3029, 3030, 3031, 3032, 3033, 3034, 3035, 3036, 3037, 3038, 3039,\n",
            "       3040, 3041, 3042, 3043, 3044, 3045, 3046, 3047, 3048, 3049, 3050,\n",
            "       3051, 3052, 3053, 3054, 3055, 3056, 3057, 3058, 3059, 3060, 3061,\n",
            "       3062, 3063, 3064, 3065, 3066, 3067, 3068, 3069, 3070, 3071, 3072,\n",
            "       3073, 3074, 3075, 3076, 3077, 3078, 3079, 3080, 3081, 3082, 3083,\n",
            "       3084, 3085, 3086, 3087, 3088, 3089, 3090, 3091, 3092, 3093, 3094,\n",
            "       3095]),)\n"
          ],
          "name": "stdout"
        }
      ]
    },
    {
      "cell_type": "markdown",
      "metadata": {
        "id": "97HuNis3X-GU"
      },
      "source": [
        "## Plot anomalies\n",
        "\n",
        "We now know the samples of the data which are anomalies. With this, we will\n",
        "find the corresponding `timestamps` from the original test data. We will be\n",
        "using the following method to do that:\n",
        "\n",
        "Let's say time_steps = 3 and we have 10 training values. Our `x_train` will\n",
        "look like this:\n",
        "\n",
        "- 0, 1, 2\n",
        "- 1, 2, 3\n",
        "- 2, 3, 4\n",
        "- 3, 4, 5\n",
        "- 4, 5, 6\n",
        "- 5, 6, 7\n",
        "- 6, 7, 8\n",
        "- 7, 8, 9\n",
        "\n",
        "All except the initial and the final time_steps-1 data values, will appear in\n",
        "`time_steps` number of samples. So, if we know that the samples\n",
        "[(3, 4, 5), (4, 5, 6), (5, 6, 7)] are anomalies, we can say that the data point\n",
        "5 is an anomaly."
      ]
    },
    {
      "cell_type": "code",
      "metadata": {
        "id": "znv3OgFDX-GU"
      },
      "source": [
        "# data i is an anomaly if samples [(i - timesteps + 1) to (i)] are anomalies\n",
        "anomalous_data_indices = []\n",
        "for data_idx in range(TIME_STEPS - 1, len(df_test_value) - TIME_STEPS + 1):\n",
        "    if np.all(anomalies[data_idx - TIME_STEPS + 1 : data_idx]):\n",
        "        anomalous_data_indices.append(data_idx)"
      ],
      "execution_count": 37,
      "outputs": []
    },
    {
      "cell_type": "markdown",
      "metadata": {
        "id": "yAhK4UNIX-GV"
      },
      "source": [
        "Let's overlay the anomalies on the original test data plot."
      ]
    },
    {
      "cell_type": "code",
      "metadata": {
        "id": "CVK9EbyWX-GV",
        "outputId": "8d862ef4-c4dd-4e35-9d3c-3246fdddf76c",
        "colab": {
          "base_uri": "https://localhost:8080/",
          "height": 303
        }
      },
      "source": [
        "df_subset = df_daily_jumpsup.iloc[anomalous_data_indices]\n",
        "fig, ax = plt.subplots()\n",
        "df_daily_jumpsup.plot(legend=False, ax=ax)\n",
        "df_subset.plot(legend=False, ax=ax, color=\"r\")\n",
        "plt.show()"
      ],
      "execution_count": 38,
      "outputs": [
        {
          "output_type": "display_data",
          "data": {
            "image/png": "[encoded data removed]",
            "text/plain": [
              "<Figure size 432x288 with 1 Axes>"
            ]
          },
          "metadata": {
            "tags": [],
            "needs_background": "light"
          }
        }
      ]
    }
  ]
}