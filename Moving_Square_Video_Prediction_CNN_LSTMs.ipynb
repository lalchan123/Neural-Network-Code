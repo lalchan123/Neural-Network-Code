{
  "nbformat": 4,
  "nbformat_minor": 0,
  "metadata": {
    "colab": {
      "name": "Moving Square Video Prediction - CNN LSTMs.ipynb",
      "provenance": [],
      "authorship_tag": "ABX9TyPVGplla1rcX+x7M5UfIY0p",
      "include_colab_link": true
    },
    "kernelspec": {
      "name": "python3",
      "display_name": "Python 3"
    },
    "language_info": {
      "name": "python"
    }
  },
  "cells": [
    {
      "cell_type": "markdown",
      "metadata": {
        "id": "view-in-github",
        "colab_type": "text"
      },
      "source": [
        "<a href=\"https://colab.research.google.com/github/lalchan123/Neural-Network-Code_and_ML_algorithm/blob/main/Moving_Square_Video_Prediction_CNN_LSTMs.ipynb\" target=\"_parent\"><img src=\"https://colab.research.google.com/assets/colab-badge.svg\" alt=\"Open In Colab\"/></a>"
      ]
    },
    {
      "cell_type": "markdown",
      "metadata": {
        "id": "U8ZRoIcYKJtw"
      },
      "source": [
        "**Importing Libraries**"
      ]
    },
    {
      "cell_type": "code",
      "metadata": {
        "id": "CaE8NxkPKWJr"
      },
      "source": [
        "import numpy as np\n",
        "from random import random\n",
        "from random import randint\n",
        "import matplotlib.pyplot as plt\n",
        "\n",
        "from keras.models import Sequential\n",
        "from keras.layers import Conv2D, MaxPooling2D, LSTM, Dense, Flatten, TimeDistributed"
      ],
      "execution_count": 1,
      "outputs": []
    },
    {
      "cell_type": "markdown",
      "metadata": {
        "id": "6-U5s7OxKoyB"
      },
      "source": [
        "**Instance Generator**"
      ]
    },
    {
      "cell_type": "code",
      "metadata": {
        "colab": {
          "base_uri": "https://localhost:8080/",
          "height": 392
        },
        "id": "4n8nLKuAKrce",
        "outputId": "09bcb652-3dc4-40ee-c85a-0a9d92cae238"
      },
      "source": [
        "# generate the next frame in the sequence\n",
        "def next_frame(last_step, last_frame, column):\n",
        "    # define the scope of the next step\n",
        "    lower = max(0, last_step-1)\n",
        "    upper = min(last_frame.shape[0]-1, last_step+1)\n",
        "    # choose the row index for the next step\n",
        "    step = randint(lower, upper)\n",
        "    # copy the prior frame\n",
        "    frame = last_frame.copy()\n",
        "    # add the new step\n",
        "    frame[step, column] = 1\n",
        "    return frame, step\n",
        "\n",
        "# generate a sequence of frames of a dot moving across an image\n",
        "def build_frames(size):\n",
        "    frames = list()\n",
        "    # create the first frame\n",
        "    frame = np.zeros((size,size))\n",
        "    step = randint(0, size-1)\n",
        "    # decide if we are heading left or right\n",
        "    right = 1 if random() < 0.5 else 0\n",
        "    col = 0 if right else size-1\n",
        "    frame[step, col] = 1\n",
        "    frames.append(frame)\n",
        "    # create all remaining frames\n",
        "    for i in range(1, size):\n",
        "        col = i if right else size-1-i\n",
        "        frame, step = next_frame(step, frame, col)\n",
        "        frames.append(frame)\n",
        "    return frames, right\n",
        "\n",
        "# generate sequence of frames\n",
        "size = 5\n",
        "frames, right = build_frames(size)\n",
        "# plot all frames\n",
        "plt.figure()\n",
        "for i in range(size):\n",
        "    # create a gray scale subplot for each frame\n",
        "    plt.subplot(1, size, i+1) \n",
        "    plt.imshow(frames[i], cmap='Greys') \n",
        "    # turn of the scale to make it clearer \n",
        "    ax = plt.gca() \n",
        "    ax.get_xaxis().set_visible(False) \n",
        "    ax.get_yaxis().set_visible(False)\n",
        "    # show the plot\n",
        "    plt.show()"
      ],
      "execution_count": 2,
      "outputs": [
        {
          "output_type": "display_data",
          "data": {
            "image/png": "[encoded data removed]",
            "text/plain": [
              "<Figure size 432x288 with 1 Axes>"
            ]
          },
          "metadata": {
            "tags": [],
            "needs_background": "light"
          }
        },
        {
          "output_type": "display_data",
          "data": {
            "image/png": "[encoded data removed]",
            "text/plain": [
              "<Figure size 432x288 with 1 Axes>"
            ]
          },
          "metadata": {
            "tags": [],
            "needs_background": "light"
          }
        },
        {
          "output_type": "display_data",
          "data": {
            "image/png": "[encoded data removed]",
            "text/plain": [
              "<Figure size 432x288 with 1 Axes>"
            ]
          },
          "metadata": {
            "tags": [],
            "needs_background": "light"
          }
        },
        {
          "output_type": "display_data",
          "data": {
            "image/png": "[encoded data removed]",
            "text/plain": [
              "<Figure size 432x288 with 1 Axes>"
            ]
          },
          "metadata": {
            "tags": [],
            "needs_background": "light"
          }
        },
        {
          "output_type": "display_data",
          "data": {
            "image/png": "[encoded data removed]",
            "text/plain": [
              "<Figure size 432x288 with 1 Axes>"
            ]
          },
          "metadata": {
            "tags": [],
            "needs_background": "light"
          }
        }
      ]
    },
    {
      "cell_type": "code",
      "metadata": {
        "id": "pfb3UD8gMCjx"
      },
      "source": [
        "# generate multiple sequences of frames and reshape for network input\n",
        "def generate_examples(size, n_patterns):\n",
        "    X, y = list(), list()\n",
        "    for _ in range(n_patterns):\n",
        "        frames, right = build_frames(size)\n",
        "        X.append(frames)\n",
        "        y.append(right)\n",
        "  # resize as [samples, timesteps, width, height, channels]\n",
        "    X = np.array(X).reshape(n_patterns, size, size, size, 1)\n",
        "    y = np.array(y).reshape(n_patterns, 1)\n",
        "    return X, y"
      ],
      "execution_count": 5,
      "outputs": []
    },
    {
      "cell_type": "markdown",
      "metadata": {
        "id": "WGL5qC_YM8fA"
      },
      "source": [
        "**CNN Model**"
      ]
    },
    {
      "cell_type": "code",
      "metadata": {
        "colab": {
          "base_uri": "https://localhost:8080/"
        },
        "id": "9aG_ucVaMWHO",
        "outputId": "e2fed6b1-db2e-480b-849c-123a6d37006b"
      },
      "source": [
        "size = 50\n",
        "\n",
        "model = Sequential()\n",
        "model.add(TimeDistributed(Conv2D(2, (2,2), activation='relu'), \n",
        "                          input_shape=(None,size,size,1)))\n",
        "model.add(TimeDistributed(MaxPooling2D(pool_size=(2,2))))\n",
        "model.add(TimeDistributed(Flatten()))\n",
        "model.add(LSTM(50))\n",
        "model.add(Dense(1, activation='sigmoid')) \n",
        "model.compile(loss='binary_crossentropy', optimizer='adam', metrics=['accuracy']) \n",
        "model.summary()"
      ],
      "execution_count": 6,
      "outputs": [
        {
          "output_type": "stream",
          "text": [
            "Model: \"sequential\"\n",
            "_________________________________________________________________\n",
            "Layer (type)                 Output Shape              Param #   \n",
            "=================================================================\n",
            "time_distributed (TimeDistri (None, None, 49, 49, 2)   10        \n",
            "_________________________________________________________________\n",
            "time_distributed_1 (TimeDist (None, None, 24, 24, 2)   0         \n",
            "_________________________________________________________________\n",
            "time_distributed_2 (TimeDist (None, None, 1152)        0         \n",
            "_________________________________________________________________\n",
            "lstm (LSTM)                  (None, 50)                240600    \n",
            "_________________________________________________________________\n",
            "dense (Dense)                (None, 1)                 51        \n",
            "=================================================================\n",
            "Total params: 240,661\n",
            "Trainable params: 240,661\n",
            "Non-trainable params: 0\n",
            "_________________________________________________________________\n"
          ],
          "name": "stdout"
        }
      ]
    },
    {
      "cell_type": "code",
      "metadata": {
        "colab": {
          "base_uri": "https://localhost:8080/"
        },
        "id": "rv5qLbvLMsR8",
        "outputId": "b31d7e68-360d-411a-cbda-d90236d6b225"
      },
      "source": [
        "# fitting model in loop inorder to avoid kernel breakdown due to memory \n",
        "for i in range(10):\n",
        "    print(\"Loop : \",i)\n",
        "    X, y = generate_examples(size, 500)\n",
        "    model.fit(X, y, batch_size=32, epochs=1)"
      ],
      "execution_count": 7,
      "outputs": [
        {
          "output_type": "stream",
          "text": [
            "Loop :  0\n",
            "16/16 [==============================] - 33s 721ms/step - loss: 0.6830 - accuracy: 0.5627\n",
            "Loop :  1\n",
            "16/16 [==============================] - 11s 714ms/step - loss: 0.3296 - accuracy: 0.8840\n",
            "Loop :  2\n",
            "16/16 [==============================] - 12s 775ms/step - loss: 0.3960 - accuracy: 0.8940\n",
            "Loop :  3\n",
            "16/16 [==============================] - 11s 714ms/step - loss: 0.1264 - accuracy: 0.9840\n",
            "Loop :  4\n",
            "16/16 [==============================] - 12s 750ms/step - loss: 0.1085 - accuracy: 0.9800\n",
            "Loop :  5\n",
            "16/16 [==============================] - 11s 713ms/step - loss: 0.0516 - accuracy: 0.9920\n",
            "Loop :  6\n",
            "16/16 [==============================] - 11s 714ms/step - loss: 0.0477 - accuracy: 0.9900\n",
            "Loop :  7\n",
            "16/16 [==============================] - 11s 707ms/step - loss: 0.0229 - accuracy: 0.9980\n",
            "Loop :  8\n",
            "16/16 [==============================] - 11s 712ms/step - loss: 0.0279 - accuracy: 0.9960\n",
            "Loop :  9\n",
            "16/16 [==============================] - 11s 710ms/step - loss: 0.0590 - accuracy: 0.9860\n"
          ],
          "name": "stdout"
        }
      ]
    },
    {
      "cell_type": "markdown",
      "metadata": {
        "id": "sLU_pY90NqqL"
      },
      "source": [
        "**evaluate model**"
      ]
    },
    {
      "cell_type": "code",
      "metadata": {
        "colab": {
          "base_uri": "https://localhost:8080/"
        },
        "id": "U9H-cGYPNsF4",
        "outputId": "350d59b4-b85a-402e-f54b-43bc37b2ecad"
      },
      "source": [
        "# evaluate model\n",
        "X, y = generate_examples(size, 100)\n",
        "loss, acc = model.evaluate(X, y, verbose=0) \n",
        "print('loss: %f, acc: %f' % (loss, acc*100))\n"
      ],
      "execution_count": 8,
      "outputs": [
        {
          "output_type": "stream",
          "text": [
            "loss: 0.037867, acc: 99.000001\n"
          ],
          "name": "stdout"
        }
      ]
    },
    {
      "cell_type": "markdown",
      "metadata": {
        "id": "NqvDpF3bOIBI"
      },
      "source": [
        "**prediction on new data**"
      ]
    },
    {
      "cell_type": "code",
      "metadata": {
        "colab": {
          "base_uri": "https://localhost:8080/"
        },
        "id": "oaVJ1np7OInm",
        "outputId": "d612f2a5-8bd8-4fa8-a088-fd0f9d82a847"
      },
      "source": [
        "# prediction on new data\n",
        "for i in range(10):\n",
        "    print('Example : ',i+1)\n",
        "    X, y = generate_examples(size, 1)\n",
        "    yhat = model.predict_classes(X, verbose=0)\n",
        "    expected = \"Right\" if y[0]==1 else \"Left\"\n",
        "    predicted = \"Right\" if yhat[0]==1 else \"Left\" \n",
        "    print('Expected: %s, Predicted: %s' % (expected, predicted))"
      ],
      "execution_count": 9,
      "outputs": [
        {
          "output_type": "stream",
          "text": [
            "Example :  1\n"
          ],
          "name": "stdout"
        },
        {
          "output_type": "stream",
          "text": [
            "/usr/local/lib/python3.7/dist-packages/keras/engine/sequential.py:450: UserWarning: `model.predict_classes()` is deprecated and will be removed after 2021-01-01. Please use instead:* `np.argmax(model.predict(x), axis=-1)`,   if your model does multi-class classification   (e.g. if it uses a `softmax` last-layer activation).* `(model.predict(x) > 0.5).astype(\"int32\")`,   if your model does binary classification   (e.g. if it uses a `sigmoid` last-layer activation).\n",
            "  warnings.warn('`model.predict_classes()` is deprecated and '\n"
          ],
          "name": "stderr"
        },
        {
          "output_type": "stream",
          "text": [
            "Expected: Left, Predicted: Left\n",
            "Example :  2\n",
            "Expected: Left, Predicted: Left\n",
            "Example :  3\n",
            "Expected: Left, Predicted: Left\n",
            "Example :  4\n",
            "Expected: Right, Predicted: Right\n",
            "Example :  5\n",
            "Expected: Left, Predicted: Left\n",
            "Example :  6\n",
            "Expected: Right, Predicted: Right\n",
            "Example :  7\n",
            "Expected: Right, Predicted: Right\n",
            "Example :  8\n",
            "Expected: Right, Predicted: Right\n",
            "Example :  9\n",
            "Expected: Right, Predicted: Right\n",
            "Example :  10\n",
            "Expected: Left, Predicted: Left\n"
          ],
          "name": "stdout"
        }
      ]
    }
  ]
}